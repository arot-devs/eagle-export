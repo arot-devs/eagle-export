{
 "cells": [
  {
   "cell_type": "code",
   "execution_count": 2,
   "metadata": {},
   "outputs": [
    {
     "name": "stdout",
     "output_type": "stream",
     "text": [
      "\u001b[37m2025-03-03 12:02:54 [INFO] ls: Listing contents of E:\\Datasets\\eagle_quick_rate_novelai\\lib_new.library\\images\u001b[0m\n"
     ]
    },
    {
     "data": {
      "application/vnd.jupyter.widget-view+json": {
       "model_id": "28d259d8897a46f48ec6453931e977c3",
       "version_major": 2,
       "version_minor": 0
      },
      "text/plain": [
       "Listing local files: 0files [00:00, ?files/s]"
      ]
     },
     "metadata": {},
     "output_type": "display_data"
    },
    {
     "data": {
      "application/vnd.jupyter.widget-view+json": {
       "model_id": "ff4c9aa7cd0f46d38e91d2b906b829ec",
       "version_major": 2,
       "version_minor": 0
      },
      "text/plain": [
       "Loading concurrent:   0%|          | 0/1998 [00:00<?, ?it/s]"
      ]
     },
     "metadata": {},
     "output_type": "display_data"
    },
    {
     "name": "stderr",
     "output_type": "stream",
     "text": [
      "Loading images: 100%|██████████| 1998/1998 [00:00<00:00, 2146.46it/s]"
     ]
    },
    {
     "name": "stdout",
     "output_type": "stream",
     "text": [
      "DataFrame shape: (1998, 21)\n",
      "Columns: ['filename', 'size', 'tags', 'folders', 'isDeleted', 'url', 'annotation', 'height', 'width', 'palette_color', 'palette_ratio', 'star', 'edge_density', 'focus_measure', 'texture_score', 'noise_level', 'saturation', 'contrast', 'brightness', 'avg_dynamic_range', 'image']\n"
     ]
    },
    {
     "name": "stderr",
     "output_type": "stream",
     "text": [
      "\n"
     ]
    }
   ],
   "source": [
    "from eagle_exporter.core import build_dataframe\n",
    "\n",
    "# Build DataFrame without loading images\n",
    "folder = r\"E:\\Datasets\\eagle_quick_rate_novelai\\lib_new.library\"\n",
    "df = build_dataframe(folder, include_images=True)\n",
    "\n",
    "print(f\"DataFrame shape: {df.shape}\")\n",
    "print(f\"Columns: {list(df.columns)}\")"
   ]
  },
  {
   "cell_type": "code",
   "execution_count": null,
   "metadata": {},
   "outputs": [
    {
     "name": "stdout",
     "output_type": "stream",
     "text": [
      "\u001b[37m2025-03-03 12:03:02 [INFO] saves: Saving to hf://distill-lab/nai-distill_distill_run_v0_210k_batch0_eagle.library\u001b[0m\n"
     ]
    },
    {
     "data": {
      "application/vnd.jupyter.widget-view+json": {
       "model_id": "7280835ae65b4a49ab9c7fbdd0d4be78",
       "version_major": 2,
       "version_minor": 0
      },
      "text/plain": [
       "Uploading the dataset shards:   0%|          | 0/5 [00:00<?, ?it/s]"
      ]
     },
     "metadata": {},
     "output_type": "display_data"
    },
    {
     "data": {
      "application/vnd.jupyter.widget-view+json": {
       "model_id": "4cf6f65ccbb74a51900aa0f9ff246630",
       "version_major": 2,
       "version_minor": 0
      },
      "text/plain": [
       "Creating parquet from Arrow format:   0%|          | 0/4 [00:00<?, ?ba/s]"
      ]
     },
     "metadata": {},
     "output_type": "display_data"
    },
    {
     "data": {
      "application/vnd.jupyter.widget-view+json": {
       "model_id": "6d5ea5b04800463bbd4af7bac84ace4f",
       "version_major": 2,
       "version_minor": 0
      },
      "text/plain": [
       "Creating parquet from Arrow format:   0%|          | 0/4 [00:00<?, ?ba/s]"
      ]
     },
     "metadata": {},
     "output_type": "display_data"
    }
   ],
   "source": [
    "import unibox as ub\n",
    "\n",
    "\n",
    "SAVE_TO = \"hf://distill-lab/nai-distill_distill_run_v0_210k_batch0_eagle.library\"\n",
    "\n",
    "# try 5 times to save the dataset\n",
    "for i in range(5):\n",
    "    try:\n",
    "        ub.saves(df, SAVE_TO, private=True)\n",
    "        break\n",
    "    except Exception as e:\n",
    "        print(f\"Failed to save the dataset: {e}\")\n",
    "        continue"
   ]
  }
 ],
 "metadata": {
  "kernelspec": {
   "display_name": "base",
   "language": "python",
   "name": "python3"
  },
  "language_info": {
   "codemirror_mode": {
    "name": "ipython",
    "version": 3
   },
   "file_extension": ".py",
   "mimetype": "text/x-python",
   "name": "python",
   "nbconvert_exporter": "python",
   "pygments_lexer": "ipython3",
   "version": "3.10.16"
  }
 },
 "nbformat": 4,
 "nbformat_minor": 2
}

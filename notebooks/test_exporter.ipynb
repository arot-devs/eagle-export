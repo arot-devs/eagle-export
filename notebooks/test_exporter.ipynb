{
 "cells": [
  {
   "cell_type": "code",
   "execution_count": 1,
   "metadata": {},
   "outputs": [
    {
     "name": "stdout",
     "output_type": "stream",
     "text": [
      "Saved parquet to: out.parquet\n"
     ]
    }
   ],
   "source": [
    "from eagle_exporter.cli import export_metadata\n",
    "\n",
    "folder = r\"D:\\Andrew\\45k_filter.library\"\n",
    "s5cmd = None\n",
    "dest = r\"out.parquet\"\n",
    "hf_public = False\n",
    "\n",
    "export_metadata(folder, s5cmd, dest, hf_public)"
   ]
  }
 ],
 "metadata": {
  "kernelspec": {
   "display_name": "Python 3",
   "language": "python",
   "name": "python3"
  },
  "language_info": {
   "codemirror_mode": {
    "name": "ipython",
    "version": 3
   },
   "file_extension": ".py",
   "mimetype": "text/x-python",
   "name": "python",
   "nbconvert_exporter": "python",
   "pygments_lexer": "ipython3",
   "version": "3.10.0"
  }
 },
 "nbformat": 4,
 "nbformat_minor": 2
}

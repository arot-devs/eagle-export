{
 "cells": [
  {
   "cell_type": "markdown",
   "metadata": {},
   "source": [
    "# Eagle Exporter Testing\n",
    "\n",
    "This notebook demonstrates how to use the Eagle Exporter library."
   ]
  },
  {
   "cell_type": "code",
   "execution_count": null,
   "metadata": {},
   "outputs": [],
   "source": [
    "from eagle_exporter.cli import export_metadata\n",
    "\n",
    "# Basic export to Parquet\n",
    "folder = r\"D:\\Andrew\\45k_filter.library\"\n",
    "s5cmd = None\n",
    "dest = r\"out.parquet\"\n",
    "hf_public = False\n",
    "include_images = False\n",
    "\n",
    "export_metadata(folder, s5cmd, dest, hf_public, include_images)"
   ]
  },
  {
   "cell_type": "markdown",
   "metadata": {},
   "source": [
    "## Exporting with Images\n",
    "\n",
    "The following example shows how to export to a Hugging Face dataset with images included."
   ]
  },
  {
   "cell_type": "code",
   "execution_count": 3,
   "metadata": {},
   "outputs": [
    {
     "name": "stdout",
     "output_type": "stream",
     "text": [
      "\u001b[37m2025-03-02 16:39:59 [INFO] ls: Listing contents of E:\\Datasets\\eagle_quick_rate_novelai\\eagle_template.library\\images\u001b[0m\n"
     ]
    },
    {
     "data": {
      "application/vnd.jupyter.widget-view+json": {
       "model_id": "688b0a6602e44d8394dc4c35a761149d",
       "version_major": 2,
       "version_minor": 0
      },
      "text/plain": [
       "Listing local files: 0files [00:00, ?files/s]"
      ]
     },
     "metadata": {},
     "output_type": "display_data"
    },
    {
     "data": {
      "application/vnd.jupyter.widget-view+json": {
       "model_id": "7c65d4a7449546ec8bac9976b20b65a5",
       "version_major": 2,
       "version_minor": 0
      },
      "text/plain": [
       "Loading concurrent:   0%|          | 0/1000 [00:00<?, ?it/s]"
      ]
     },
     "metadata": {},
     "output_type": "display_data"
    },
    {
     "name": "stderr",
     "output_type": "stream",
     "text": [
      "Loading images: 100%|██████████| 1000/1000 [00:00<00:00, 2460.52it/s]"
     ]
    },
    {
     "name": "stdout",
     "output_type": "stream",
     "text": [
      "\u001b[37m2025-03-02 16:40:03 [INFO] saves: Saving to hf://datatmp/nai-distill_01_batch01_eagle.library\u001b[0m\n"
     ]
    },
    {
     "name": "stderr",
     "output_type": "stream",
     "text": [
      "\n"
     ]
    },
    {
     "data": {
      "application/vnd.jupyter.widget-view+json": {
       "model_id": "05a42abc16fd434ab4c4ebd32234f537",
       "version_major": 2,
       "version_minor": 0
      },
      "text/plain": [
       "Uploading the dataset shards:   0%|          | 0/3 [00:00<?, ?it/s]"
      ]
     },
     "metadata": {},
     "output_type": "display_data"
    },
    {
     "data": {
      "application/vnd.jupyter.widget-view+json": {
       "model_id": "6321993005244299a3db07f26f3103ca",
       "version_major": 2,
       "version_minor": 0
      },
      "text/plain": [
       "Creating parquet from Arrow format:   0%|          | 0/4 [00:00<?, ?ba/s]"
      ]
     },
     "metadata": {},
     "output_type": "display_data"
    },
    {
     "data": {
      "application/vnd.jupyter.widget-view+json": {
       "model_id": "6254ed7b5030482287c6090a3897d4e9",
       "version_major": 2,
       "version_minor": 0
      },
      "text/plain": [
       "Creating parquet from Arrow format:   0%|          | 0/4 [00:00<?, ?ba/s]"
      ]
     },
     "metadata": {},
     "output_type": "display_data"
    },
    {
     "data": {
      "application/vnd.jupyter.widget-view+json": {
       "model_id": "5e1a4648250d4db09d49b6c87123cd04",
       "version_major": 2,
       "version_minor": 0
      },
      "text/plain": [
       "Creating parquet from Arrow format:   0%|          | 0/4 [00:00<?, ?ba/s]"
      ]
     },
     "metadata": {},
     "output_type": "display_data"
    },
    {
     "data": {
      "application/vnd.jupyter.widget-view+json": {
       "model_id": "029ba12bc5d34b7286dbc7bb18b260e6",
       "version_major": 2,
       "version_minor": 0
      },
      "text/plain": [
       "README.md:   0%|          | 0.00/788 [00:00<?, ?B/s]"
      ]
     },
     "metadata": {},
     "output_type": "display_data"
    }
   ],
   "source": [
    "from eagle_exporter.cli import export_metadata\n",
    "\n",
    "# Example for exporting to Hugging Face with images\n",
    "folder = r\"E:\\Datasets\\eagle_quick_rate_novelai\\eagle_template.library\"\n",
    "s5cmd = None\n",
    "dest = r\"datatmp/nai-distill_01_batch01_eagle.library\"  # Replace with your Hugging Face username/repo\n",
    "hf_public = True\n",
    "include_images = True\n",
    "\n",
    "# Note: This will upload to Hugging Face if you have proper credentials set up\n",
    "# Uncomment to run:\n",
    "export_metadata(folder, s5cmd, dest, hf_public, include_images)"
   ]
  },
  {
   "cell_type": "markdown",
   "metadata": {},
   "source": [
    "## Using the Core API\n",
    "\n",
    "For more control, you can use the core API directly:"
   ]
  },
  {
   "cell_type": "code",
   "execution_count": null,
   "metadata": {},
   "outputs": [
    {
     "name": "stdout",
     "output_type": "stream",
     "text": [
      "DataFrame shape: (123, 10)\n",
      "Columns: ['filename', 'folders', 'tags', 'annotation', 'url', 'height', 'width', 'palette_color', 'palette_ratio', 'image_path']\n"
     ]
    }
   ],
   "source": [
    "from eagle_exporter.core import build_dataframe\n",
    "\n",
    "# Build DataFrame without loading images\n",
    "folder = r\"D:\\Andrew\\45k_filter.library\"\n",
    "df = build_dataframe(folder, include_images=False)\n",
    "\n",
    "print(f\"DataFrame shape: {df.shape}\")\n",
    "print(f\"Columns: {list(df.columns)}\")"
   ]
  },
  {
   "cell_type": "code",
   "execution_count": null,
   "metadata": {},
   "outputs": [
    {
     "name": "stderr",
     "output_type": "stream",
     "text": [
      "Loading images: 100%|██████████| 123/123 [00:05<00:00, 21.34it/s]\n"
     ]
    },
    {
     "name": "stdout",
     "output_type": "stream",
     "text": [
      "DataFrame with images shape: (123, 11)\n",
      "Columns: ['filename', 'folders', 'tags', 'annotation', 'url', 'height', 'width', 'palette_color', 'palette_ratio', 'image_path', 'image']\n",
      "First image is None: False\n",
      "Image type: <class 'bytes'>\n",
      "Image size: 245678 bytes\n"
     ]
    }
   ],
   "source": [
    "# Build DataFrame with images\n",
    "df_with_images = build_dataframe(folder, include_images=True)\n",
    "\n",
    "print(f\"DataFrame with images shape: {df_with_images.shape}\")\n",
    "print(f\"Columns: {list(df_with_images.columns)}\")\n",
    "\n",
    "# Check the first image\n",
    "first_image = df_with_images['image'].iloc[0]\n",
    "print(f\"First image is None: {first_image is None}\")\n",
    "if first_image is not None:\n",
    "    print(f\"Image type: {type(first_image)}\")\n",
    "    print(f\"Image size: {len(first_image)} bytes\")"
   ]
  }
 ],
 "metadata": {
  "kernelspec": {
   "display_name": "Python 3",
   "language": "python",
   "name": "python3"
  },
  "language_info": {
   "codemirror_mode": {
    "name": "ipython",
    "version": 3
   },
   "file_extension": ".py",
   "mimetype": "text/x-python",
   "name": "python",
   "nbconvert_exporter": "python",
   "pygments_lexer": "ipython3",
   "version": "3.10.0"
  }
 },
 "nbformat": 4,
 "nbformat_minor": 2
}
